{
  "nbformat": 4,
  "nbformat_minor": 0,
  "metadata": {
    "colab": {
      "provenance": [],
      "authorship_tag": "ABX9TyMpZQNBs1zAHBrebD1mGiTa",
      "include_colab_link": true
    },
    "kernelspec": {
      "name": "python3",
      "display_name": "Python 3"
    },
    "language_info": {
      "name": "python"
    }
  },
  "cells": [
    {
      "cell_type": "markdown",
      "metadata": {
        "id": "view-in-github",
        "colab_type": "text"
      },
      "source": [
        "<a href=\"https://colab.research.google.com/github/Hijinabye/Python/blob/main/%EC%A4%91%EA%B0%84%EA%B3%A0%EC%82%AC_%EB%AC%B8%EC%A0%9C_%ED%92%80%EC%9D%B4.ipynb\" target=\"_parent\"><img src=\"https://colab.research.google.com/assets/colab-badge.svg\" alt=\"Open In Colab\"/></a>"
      ]
    },
    {
      "cell_type": "code",
      "execution_count": 2,
      "metadata": {
        "colab": {
          "base_uri": "https://localhost:8080/"
        },
        "id": "r2S_5ibwSBQ7",
        "outputId": "51e54783-565d-4eee-a04d-5d05d2e46a61"
      },
      "outputs": [
        {
          "output_type": "stream",
          "name": "stdout",
          "text": [
            "삽입한 1000원권의 개수: 4\n",
            "구매하실 물건값: 3460\n",
            "500원짜리 동전 개수:1, 100원짜리 동전 개수:0, 50원짜리 동전 개수:0, 10원짜리 동전 개수: 4\n"
          ]
        }
      ],
      "source": [
        "# 중간고사 3번 - while 반복문으로 풀기\n",
        "\n",
        "while True:\n",
        "  user = int(input(\"삽입한 1000원권의 개수: \"))\n",
        "  price = int(input(\"구매하실 물건값: \"))\n",
        "\n",
        "  if user*1000 < price:\n",
        "    print(\"돈을 더 삽입하세요.\")\n",
        "    continue\n",
        "  else: break\n",
        "\n",
        "\n",
        "return_price = user*1000 - price\n",
        "count_500 = 0\n",
        "count_100 = 0\n",
        "count_50 = 0\n",
        "count_10 = 0\n",
        "\n",
        "while return_price >= 500:\n",
        "  return_price -= 500\n",
        "  count_500 += 1\n",
        "\n",
        "while return_price >= 100:\n",
        "  return_price -= 100\n",
        "  count_100 += 1\n",
        "\n",
        "while return_price >= 50:\n",
        "  return_price -= 50\n",
        "  count_50 += 1\n",
        "\n",
        "while return_price >= 10:\n",
        "  return_price -= 10\n",
        "  count_10 += 1\n",
        "\n",
        "print(f\"500원짜리 동전 개수:{count_500}, 100원짜리 동전 개수:{count_100}, 50원짜리 동전 개수:{count_50}, 10원짜리 동전 개수: {count_10}\")\n"
      ]
    },
    {
      "cell_type": "code",
      "source": [],
      "metadata": {
        "id": "s0pHkNNnVj0j"
      },
      "execution_count": null,
      "outputs": []
    }
  ]
}